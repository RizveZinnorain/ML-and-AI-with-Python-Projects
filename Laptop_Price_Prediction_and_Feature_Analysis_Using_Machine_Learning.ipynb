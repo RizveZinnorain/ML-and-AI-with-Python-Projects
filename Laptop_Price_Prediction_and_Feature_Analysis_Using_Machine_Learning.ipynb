{
  "nbformat": 4,
  "nbformat_minor": 0,
  "metadata": {
    "colab": {
      "provenance": []
    },
    "kernelspec": {
      "name": "python3",
      "display_name": "Python 3"
    },
    "language_info": {
      "name": "python"
    }
  },
  "cells": [
    {
      "cell_type": "code",
      "execution_count": null,
      "metadata": {
        "id": "Pv9Amfa4Cfnr"
      },
      "outputs": [],
      "source": [
        "# Importing necessary libraries\n",
        "import pandas as pd\n",
        "import numpy as np\n",
        "import matplotlib.pyplot as plt\n",
        "import seaborn as sns"
      ]
    },
    {
      "cell_type": "code",
      "source": [
        "# Mount Google Drive to access files\n",
        "from google.colab import drive\n",
        "drive.mount('/content/drive')"
      ],
      "metadata": {
        "colab": {
          "base_uri": "https://localhost:8080/"
        },
        "id": "cyXJCnyoGIZN",
        "outputId": "7a7d9920-e5d5-42ee-bc4d-6c6dad364de5"
      },
      "execution_count": null,
      "outputs": [
        {
          "output_type": "stream",
          "name": "stdout",
          "text": [
            "Mounted at /content/drive\n"
          ]
        }
      ]
    },
    {
      "cell_type": "code",
      "source": [
        "# Definig the file path\n",
        "file_path = \"/content/drive/MyDrive/laptop_prices.csv\""
      ],
      "metadata": {
        "id": "GSDpVTllzLow"
      },
      "execution_count": null,
      "outputs": []
    },
    {
      "cell_type": "code",
      "source": [
        "#reading csv file\n",
        "df = pd.read_csv(file_path, encoding='latin1')\n",
        "print(df)"
      ],
      "metadata": {
        "id": "_y0bJEWcGIV-",
        "colab": {
          "base_uri": "https://localhost:8080/"
        },
        "outputId": "c8d13708-e79c-4747-a8cc-f81816fe8efc"
      },
      "execution_count": null,
      "outputs": [
        {
          "output_type": "stream",
          "name": "stdout",
          "text": [
            "     Company                              Product            TypeName  Inches  \\\n",
            "0      Apple                          MacBook Pro           Ultrabook    13.3   \n",
            "1      Apple                          Macbook Air           Ultrabook    13.3   \n",
            "2         HP                               250 G6            Notebook    15.6   \n",
            "3      Apple                          MacBook Pro           Ultrabook    15.4   \n",
            "4      Apple                          MacBook Pro           Ultrabook    13.3   \n",
            "...      ...                                  ...                 ...     ...   \n",
            "1270  Lenovo                       Yoga 500-14ISK  2 in 1 Convertible    14.0   \n",
            "1271  Lenovo                       Yoga 900-13ISK  2 in 1 Convertible    13.3   \n",
            "1272  Lenovo                   IdeaPad 100S-14IBR            Notebook    14.0   \n",
            "1273      HP  15-AC110nv (i7-6500U/6GB/1TB/Radeon            Notebook    15.6   \n",
            "1274    Asus  X553SA-XX031T (N3050/4GB/500GB/W10)            Notebook    15.6   \n",
            "\n",
            "      Ram          OS  Weight  Price_euros    Screen  ScreenW  ...  \\\n",
            "0       8       macOS    1.37      1339.69  Standard     2560  ...   \n",
            "1       8       macOS    1.34       898.94  Standard     1440  ...   \n",
            "2       8       No OS    1.86       575.00   Full HD     1920  ...   \n",
            "3      16       macOS    1.83      2537.45  Standard     2880  ...   \n",
            "4       8       macOS    1.37      1803.60  Standard     2560  ...   \n",
            "...   ...         ...     ...          ...       ...      ...  ...   \n",
            "1270    4  Windows 10    1.80       638.00   Full HD     1920  ...   \n",
            "1271   16  Windows 10    1.30      1499.00  Quad HD+     3200  ...   \n",
            "1272    2  Windows 10    1.50       229.00  Standard     1366  ...   \n",
            "1273    6  Windows 10    2.19       764.00  Standard     1366  ...   \n",
            "1274    4  Windows 10    2.20       369.00  Standard     1366  ...   \n",
            "\n",
            "      RetinaDisplay CPU_company CPU_freq                CPU_model  \\\n",
            "0               Yes       Intel      2.3                  Core i5   \n",
            "1                No       Intel      1.8                  Core i5   \n",
            "2                No       Intel      2.5            Core i5 7200U   \n",
            "3               Yes       Intel      2.7                  Core i7   \n",
            "4               Yes       Intel      3.1                  Core i5   \n",
            "...             ...         ...      ...                      ...   \n",
            "1270             No       Intel      2.5            Core i7 6500U   \n",
            "1271             No       Intel      2.5            Core i7 6500U   \n",
            "1272             No       Intel      1.6  Celeron Dual Core N3050   \n",
            "1273             No       Intel      2.5            Core i7 6500U   \n",
            "1274             No       Intel      1.6  Celeron Dual Core N3050   \n",
            "\n",
            "     PrimaryStorage  SecondaryStorage PrimaryStorageType  \\\n",
            "0               128                 0                SSD   \n",
            "1               128                 0      Flash Storage   \n",
            "2               256                 0                SSD   \n",
            "3               512                 0                SSD   \n",
            "4               256                 0                SSD   \n",
            "...             ...               ...                ...   \n",
            "1270            128                 0                SSD   \n",
            "1271            512                 0                SSD   \n",
            "1272             64                 0      Flash Storage   \n",
            "1273           1024                 0                HDD   \n",
            "1274            500                 0                HDD   \n",
            "\n",
            "      SecondaryStorageType  GPU_company               GPU_model  \n",
            "0                       No        Intel  Iris Plus Graphics 640  \n",
            "1                       No        Intel        HD Graphics 6000  \n",
            "2                       No        Intel         HD Graphics 620  \n",
            "3                       No          AMD          Radeon Pro 455  \n",
            "4                       No        Intel  Iris Plus Graphics 650  \n",
            "...                    ...          ...                     ...  \n",
            "1270                    No        Intel         HD Graphics 520  \n",
            "1271                    No        Intel         HD Graphics 520  \n",
            "1272                    No        Intel             HD Graphics  \n",
            "1273                    No          AMD          Radeon R5 M330  \n",
            "1274                    No        Intel             HD Graphics  \n",
            "\n",
            "[1275 rows x 23 columns]\n"
          ]
        }
      ]
    },
    {
      "cell_type": "code",
      "source": [
        "df = df.drop(columns=['Touchscreen']) # Removing irrelevant or redundant column"
      ],
      "metadata": {
        "id": "gHbgqUO7XZw3"
      },
      "execution_count": null,
      "outputs": []
    },
    {
      "cell_type": "code",
      "source": [
        "df.isnull().sum() # finding missing values"
      ],
      "metadata": {
        "colab": {
          "base_uri": "https://localhost:8080/",
          "height": 773
        },
        "id": "J5UFxBfzXZtX",
        "outputId": "aa0b60fb-0c08-4898-b51d-f586560e3b97"
      },
      "execution_count": null,
      "outputs": [
        {
          "output_type": "execute_result",
          "data": {
            "text/plain": [
              "Company                  0\n",
              "Product                  0\n",
              "TypeName                12\n",
              "Inches                  12\n",
              "Ram                      0\n",
              "OS                       0\n",
              "Weight                   0\n",
              "Price_euros              0\n",
              "Screen                   0\n",
              "ScreenW                  0\n",
              "ScreenH                  0\n",
              "IPSpanel                 0\n",
              "RetinaDisplay            0\n",
              "CPU_company              0\n",
              "CPU_freq                 0\n",
              "CPU_model                5\n",
              "PrimaryStorage           0\n",
              "SecondaryStorage         0\n",
              "PrimaryStorageType       0\n",
              "SecondaryStorageType     0\n",
              "GPU_company              0\n",
              "GPU_model                0\n",
              "dtype: int64"
            ],
            "text/html": [
              "<div>\n",
              "<style scoped>\n",
              "    .dataframe tbody tr th:only-of-type {\n",
              "        vertical-align: middle;\n",
              "    }\n",
              "\n",
              "    .dataframe tbody tr th {\n",
              "        vertical-align: top;\n",
              "    }\n",
              "\n",
              "    .dataframe thead th {\n",
              "        text-align: right;\n",
              "    }\n",
              "</style>\n",
              "<table border=\"1\" class=\"dataframe\">\n",
              "  <thead>\n",
              "    <tr style=\"text-align: right;\">\n",
              "      <th></th>\n",
              "      <th>0</th>\n",
              "    </tr>\n",
              "  </thead>\n",
              "  <tbody>\n",
              "    <tr>\n",
              "      <th>Company</th>\n",
              "      <td>0</td>\n",
              "    </tr>\n",
              "    <tr>\n",
              "      <th>Product</th>\n",
              "      <td>0</td>\n",
              "    </tr>\n",
              "    <tr>\n",
              "      <th>TypeName</th>\n",
              "      <td>12</td>\n",
              "    </tr>\n",
              "    <tr>\n",
              "      <th>Inches</th>\n",
              "      <td>12</td>\n",
              "    </tr>\n",
              "    <tr>\n",
              "      <th>Ram</th>\n",
              "      <td>0</td>\n",
              "    </tr>\n",
              "    <tr>\n",
              "      <th>OS</th>\n",
              "      <td>0</td>\n",
              "    </tr>\n",
              "    <tr>\n",
              "      <th>Weight</th>\n",
              "      <td>0</td>\n",
              "    </tr>\n",
              "    <tr>\n",
              "      <th>Price_euros</th>\n",
              "      <td>0</td>\n",
              "    </tr>\n",
              "    <tr>\n",
              "      <th>Screen</th>\n",
              "      <td>0</td>\n",
              "    </tr>\n",
              "    <tr>\n",
              "      <th>ScreenW</th>\n",
              "      <td>0</td>\n",
              "    </tr>\n",
              "    <tr>\n",
              "      <th>ScreenH</th>\n",
              "      <td>0</td>\n",
              "    </tr>\n",
              "    <tr>\n",
              "      <th>IPSpanel</th>\n",
              "      <td>0</td>\n",
              "    </tr>\n",
              "    <tr>\n",
              "      <th>RetinaDisplay</th>\n",
              "      <td>0</td>\n",
              "    </tr>\n",
              "    <tr>\n",
              "      <th>CPU_company</th>\n",
              "      <td>0</td>\n",
              "    </tr>\n",
              "    <tr>\n",
              "      <th>CPU_freq</th>\n",
              "      <td>0</td>\n",
              "    </tr>\n",
              "    <tr>\n",
              "      <th>CPU_model</th>\n",
              "      <td>5</td>\n",
              "    </tr>\n",
              "    <tr>\n",
              "      <th>PrimaryStorage</th>\n",
              "      <td>0</td>\n",
              "    </tr>\n",
              "    <tr>\n",
              "      <th>SecondaryStorage</th>\n",
              "      <td>0</td>\n",
              "    </tr>\n",
              "    <tr>\n",
              "      <th>PrimaryStorageType</th>\n",
              "      <td>0</td>\n",
              "    </tr>\n",
              "    <tr>\n",
              "      <th>SecondaryStorageType</th>\n",
              "      <td>0</td>\n",
              "    </tr>\n",
              "    <tr>\n",
              "      <th>GPU_company</th>\n",
              "      <td>0</td>\n",
              "    </tr>\n",
              "    <tr>\n",
              "      <th>GPU_model</th>\n",
              "      <td>0</td>\n",
              "    </tr>\n",
              "  </tbody>\n",
              "</table>\n",
              "</div><br><label><b>dtype:</b> int64</label>"
            ]
          },
          "metadata": {},
          "execution_count": 11
        }
      ]
    },
    {
      "cell_type": "code",
      "source": [
        "#Handling Missing Values\n",
        "df['TypeName'] = df['TypeName'].fillna(df['TypeName'].mode()[0])\n",
        "df['Inches'] = df['Inches'].fillna(df['Inches'].median())\n",
        "df['CPU_model'] =df['CPU_model'].fillna(df['CPU_model'].mode()[0])\n"
      ],
      "metadata": {
        "id": "pQlwSdDd_b2I"
      },
      "execution_count": null,
      "outputs": []
    },
    {
      "cell_type": "code",
      "source": [
        "#Checking if there is any remaining missing value\n",
        "df.isnull().sum()"
      ],
      "metadata": {
        "colab": {
          "base_uri": "https://localhost:8080/",
          "height": 773
        },
        "id": "BOhB9h8PZH3V",
        "outputId": "f4a4202d-4b38-43f8-80e2-b040e3a7ce79"
      },
      "execution_count": null,
      "outputs": [
        {
          "output_type": "execute_result",
          "data": {
            "text/plain": [
              "Company                 0\n",
              "Product                 0\n",
              "TypeName                0\n",
              "Inches                  0\n",
              "Ram                     0\n",
              "OS                      0\n",
              "Weight                  0\n",
              "Price_euros             0\n",
              "Screen                  0\n",
              "ScreenW                 0\n",
              "ScreenH                 0\n",
              "IPSpanel                0\n",
              "RetinaDisplay           0\n",
              "CPU_company             0\n",
              "CPU_freq                0\n",
              "CPU_model               0\n",
              "PrimaryStorage          0\n",
              "SecondaryStorage        0\n",
              "PrimaryStorageType      0\n",
              "SecondaryStorageType    0\n",
              "GPU_company             0\n",
              "GPU_model               0\n",
              "dtype: int64"
            ],
            "text/html": [
              "<div>\n",
              "<style scoped>\n",
              "    .dataframe tbody tr th:only-of-type {\n",
              "        vertical-align: middle;\n",
              "    }\n",
              "\n",
              "    .dataframe tbody tr th {\n",
              "        vertical-align: top;\n",
              "    }\n",
              "\n",
              "    .dataframe thead th {\n",
              "        text-align: right;\n",
              "    }\n",
              "</style>\n",
              "<table border=\"1\" class=\"dataframe\">\n",
              "  <thead>\n",
              "    <tr style=\"text-align: right;\">\n",
              "      <th></th>\n",
              "      <th>0</th>\n",
              "    </tr>\n",
              "  </thead>\n",
              "  <tbody>\n",
              "    <tr>\n",
              "      <th>Company</th>\n",
              "      <td>0</td>\n",
              "    </tr>\n",
              "    <tr>\n",
              "      <th>Product</th>\n",
              "      <td>0</td>\n",
              "    </tr>\n",
              "    <tr>\n",
              "      <th>TypeName</th>\n",
              "      <td>0</td>\n",
              "    </tr>\n",
              "    <tr>\n",
              "      <th>Inches</th>\n",
              "      <td>0</td>\n",
              "    </tr>\n",
              "    <tr>\n",
              "      <th>Ram</th>\n",
              "      <td>0</td>\n",
              "    </tr>\n",
              "    <tr>\n",
              "      <th>OS</th>\n",
              "      <td>0</td>\n",
              "    </tr>\n",
              "    <tr>\n",
              "      <th>Weight</th>\n",
              "      <td>0</td>\n",
              "    </tr>\n",
              "    <tr>\n",
              "      <th>Price_euros</th>\n",
              "      <td>0</td>\n",
              "    </tr>\n",
              "    <tr>\n",
              "      <th>Screen</th>\n",
              "      <td>0</td>\n",
              "    </tr>\n",
              "    <tr>\n",
              "      <th>ScreenW</th>\n",
              "      <td>0</td>\n",
              "    </tr>\n",
              "    <tr>\n",
              "      <th>ScreenH</th>\n",
              "      <td>0</td>\n",
              "    </tr>\n",
              "    <tr>\n",
              "      <th>IPSpanel</th>\n",
              "      <td>0</td>\n",
              "    </tr>\n",
              "    <tr>\n",
              "      <th>RetinaDisplay</th>\n",
              "      <td>0</td>\n",
              "    </tr>\n",
              "    <tr>\n",
              "      <th>CPU_company</th>\n",
              "      <td>0</td>\n",
              "    </tr>\n",
              "    <tr>\n",
              "      <th>CPU_freq</th>\n",
              "      <td>0</td>\n",
              "    </tr>\n",
              "    <tr>\n",
              "      <th>CPU_model</th>\n",
              "      <td>0</td>\n",
              "    </tr>\n",
              "    <tr>\n",
              "      <th>PrimaryStorage</th>\n",
              "      <td>0</td>\n",
              "    </tr>\n",
              "    <tr>\n",
              "      <th>SecondaryStorage</th>\n",
              "      <td>0</td>\n",
              "    </tr>\n",
              "    <tr>\n",
              "      <th>PrimaryStorageType</th>\n",
              "      <td>0</td>\n",
              "    </tr>\n",
              "    <tr>\n",
              "      <th>SecondaryStorageType</th>\n",
              "      <td>0</td>\n",
              "    </tr>\n",
              "    <tr>\n",
              "      <th>GPU_company</th>\n",
              "      <td>0</td>\n",
              "    </tr>\n",
              "    <tr>\n",
              "      <th>GPU_model</th>\n",
              "      <td>0</td>\n",
              "    </tr>\n",
              "  </tbody>\n",
              "</table>\n",
              "</div><br><label><b>dtype:</b> int64</label>"
            ]
          },
          "metadata": {},
          "execution_count": 13
        }
      ]
    },
    {
      "cell_type": "code",
      "source": [
        "print(df)"
      ],
      "metadata": {
        "colab": {
          "base_uri": "https://localhost:8080/"
        },
        "id": "7Mm9f1Ok4jzw",
        "outputId": "eb4cba50-13e3-4ead-d43f-4168982655b7"
      },
      "execution_count": null,
      "outputs": [
        {
          "output_type": "stream",
          "name": "stdout",
          "text": [
            "     Company                              Product            TypeName  Inches  \\\n",
            "0      Apple                          MacBook Pro           Ultrabook    13.3   \n",
            "1      Apple                          Macbook Air           Ultrabook    13.3   \n",
            "2         HP                               250 G6            Notebook    15.6   \n",
            "3      Apple                          MacBook Pro           Ultrabook    15.4   \n",
            "4      Apple                          MacBook Pro           Ultrabook    13.3   \n",
            "...      ...                                  ...                 ...     ...   \n",
            "1270  Lenovo                       Yoga 500-14ISK  2 in 1 Convertible    14.0   \n",
            "1271  Lenovo                       Yoga 900-13ISK  2 in 1 Convertible    13.3   \n",
            "1272  Lenovo                   IdeaPad 100S-14IBR            Notebook    14.0   \n",
            "1273      HP  15-AC110nv (i7-6500U/6GB/1TB/Radeon            Notebook    15.6   \n",
            "1274    Asus  X553SA-XX031T (N3050/4GB/500GB/W10)            Notebook    15.6   \n",
            "\n",
            "      Ram          OS  Weight  Price_euros    Screen  ScreenW  ...  \\\n",
            "0       8       macOS    1.37      1339.69  Standard     2560  ...   \n",
            "1       8       macOS    1.34       898.94  Standard     1440  ...   \n",
            "2       8       No OS    1.86       575.00   Full HD     1920  ...   \n",
            "3      16       macOS    1.83      2537.45  Standard     2880  ...   \n",
            "4       8       macOS    1.37      1803.60  Standard     2560  ...   \n",
            "...   ...         ...     ...          ...       ...      ...  ...   \n",
            "1270    4  Windows 10    1.80       638.00   Full HD     1920  ...   \n",
            "1271   16  Windows 10    1.30      1499.00  Quad HD+     3200  ...   \n",
            "1272    2  Windows 10    1.50       229.00  Standard     1366  ...   \n",
            "1273    6  Windows 10    2.19       764.00  Standard     1366  ...   \n",
            "1274    4  Windows 10    2.20       369.00  Standard     1366  ...   \n",
            "\n",
            "      RetinaDisplay CPU_company CPU_freq                CPU_model  \\\n",
            "0               Yes       Intel      2.3                  Core i5   \n",
            "1                No       Intel      1.8                  Core i5   \n",
            "2                No       Intel      2.5            Core i5 7200U   \n",
            "3               Yes       Intel      2.7                  Core i7   \n",
            "4               Yes       Intel      3.1                  Core i5   \n",
            "...             ...         ...      ...                      ...   \n",
            "1270             No       Intel      2.5            Core i7 6500U   \n",
            "1271             No       Intel      2.5            Core i7 6500U   \n",
            "1272             No       Intel      1.6  Celeron Dual Core N3050   \n",
            "1273             No       Intel      2.5            Core i7 6500U   \n",
            "1274             No       Intel      1.6  Celeron Dual Core N3050   \n",
            "\n",
            "      PrimaryStorage SecondaryStorage  PrimaryStorageType  \\\n",
            "0                128                0                 SSD   \n",
            "1                128                0       Flash Storage   \n",
            "2                256                0                 SSD   \n",
            "3                512                0                 SSD   \n",
            "4                256                0                 SSD   \n",
            "...              ...              ...                 ...   \n",
            "1270             128                0                 SSD   \n",
            "1271             512                0                 SSD   \n",
            "1272              64                0       Flash Storage   \n",
            "1273            1024                0                 HDD   \n",
            "1274             500                0                 HDD   \n",
            "\n",
            "      SecondaryStorageType GPU_company               GPU_model  \n",
            "0                       No       Intel  Iris Plus Graphics 640  \n",
            "1                       No       Intel        HD Graphics 6000  \n",
            "2                       No       Intel         HD Graphics 620  \n",
            "3                       No         AMD          Radeon Pro 455  \n",
            "4                       No       Intel  Iris Plus Graphics 650  \n",
            "...                    ...         ...                     ...  \n",
            "1270                    No       Intel         HD Graphics 520  \n",
            "1271                    No       Intel         HD Graphics 520  \n",
            "1272                    No       Intel             HD Graphics  \n",
            "1273                    No         AMD          Radeon R5 M330  \n",
            "1274                    No       Intel             HD Graphics  \n",
            "\n",
            "[1275 rows x 22 columns]\n"
          ]
        }
      ]
    },
    {
      "cell_type": "markdown",
      "source": [
        "### **a. The top 5 laptop brands by number of products listed**"
      ],
      "metadata": {
        "id": "F9TgKZS9vLG6"
      }
    },
    {
      "cell_type": "markdown",
      "source": [
        "\n",
        "print(df['Company'].value_counts().head(5))\n",
        "print(\"Top 5 laptop brands:\")\n",
        "\n",
        "\n"
      ],
      "metadata": {
        "id": "hvULGGlBGITM"
      }
    },
    {
      "cell_type": "code",
      "source": [
        "top_brands = df['Company'].value_counts().head(5)\n",
        "print('Top 5 Laptop Brands')\n",
        "print(top_brands)"
      ],
      "metadata": {
        "colab": {
          "base_uri": "https://localhost:8080/"
        },
        "id": "hzgIsui5jQUW",
        "outputId": "3dda726c-81d2-4444-9e38-5db1c7e8a6b1"
      },
      "execution_count": null,
      "outputs": [
        {
          "output_type": "stream",
          "name": "stdout",
          "text": [
            "Top 5 Laptop Brands\n",
            "Company\n",
            "Dell      291\n",
            "Lenovo    289\n",
            "HP        268\n",
            "Asus      152\n",
            "Acer      101\n",
            "Name: count, dtype: int64\n"
          ]
        }
      ]
    },
    {
      "cell_type": "code",
      "source": [
        "#Demonstrating the top companies in Bar Diagram\n",
        "companies = ['Dell', 'Lenovo', 'HP', 'Asus', 'Acer']\n",
        "counts = [291, 289, 268, 152, 101]\n",
        "colors = ['#A1D6E2', '#1995AD', '#75B1A9', '#D9B44A', '#FF7B25']\n",
        "\n",
        "plt.figure(figsize=(5, 3))\n",
        "plt.bar(companies, counts, color=colors)\n",
        "plt.title('Laptop Count by Company', fontsize=14, fontweight='bold', color= 'BLACK')\n",
        "plt.xlabel('Company', fontsize=12, color='#2F4F4F')\n",
        "plt.ylabel('Count', fontsize=12, color='#2F4F4F')\n",
        "plt.show()"
      ],
      "metadata": {
        "colab": {
          "base_uri": "https://localhost:8080/",
          "height": 338
        },
        "id": "Es4haPu_ixkQ",
        "outputId": "85d8624a-9c63-4af4-8e55-7a85850abc4e"
      },
      "execution_count": null,
      "outputs": [
        {
          "output_type": "display_data",
          "data": {
            "text/plain": [
              "<Figure size 500x300 with 1 Axes>"
            ],
            "image/png": "[encoded data removed]"
          },
          "metadata": {}
        }
      ]
    },
    {
      "cell_type": "code",
      "source": [
        "top_5_companies = ['Dell', 'Lenovo', 'HP', 'Asus', 'Acer']\n",
        "df_top5 = df[df['Company'].isin(top_5_companies)]\n",
        "plt.figure(figsize=(10, 6))\n",
        "sns.violinplot(x='Company', y='Price_euros', data=df_top5)\n",
        "plt.title('Price Distribution by Company', fontsize= 14, fontweight ='bold', color = \"black\")\n",
        "\n",
        "plt.xlabel('Company', fontsize= 12, color = \"black\" )\n",
        "plt.ylabel('Price in Euros', fontsize= 12, color = \"black\")\n",
        "plt.show()"
      ],
      "metadata": {
        "colab": {
          "base_uri": "https://localhost:8080/",
          "height": 569
        },
        "id": "3FKbbU8Toizz",
        "outputId": "69106442-acd3-4720-9272-9dcbd8984398"
      },
      "execution_count": null,
      "outputs": [
        {
          "output_type": "display_data",
          "data": {
            "text/plain": [
              "<Figure size 1000x600 with 1 Axes>"
            ],
            "image/png": "[encoded data removed]"
          },
          "metadata": {}
        }
      ]
    },
    {
      "cell_type": "markdown",
      "source": [
        "## **b. The average price of laptops for each brand and identification of the brand which has the highest and lowest average price**"
      ],
      "metadata": {
        "id": "kFXy0MH5xBJ7"
      }
    },
    {
      "cell_type": "code",
      "source": [
        "avg_price_of_laptops_for_each_brand = df.groupby('Company')['Price_euros'].mean().sort_values(ascending=False)\n",
        "print(\"Average Price of Laptops Each Brand:\\n\", avg_price_of_laptops_for_each_brand)\n",
        "\n",
        "print(f\"Highest Average Price Brand: {avg_price_of_laptops_for_each_brand.idxmax()} : {avg_price_of_laptops_for_each_brand.max()} Euros\")\n",
        "print(f\"Lowest Average Price Brand: {avg_price_of_laptops_for_each_brand.idxmin()} : {avg_price_of_laptops_for_each_brand.min()} Euros\")"
      ],
      "metadata": {
        "id": "Shwzh3AqGIQq",
        "colab": {
          "base_uri": "https://localhost:8080/"
        },
        "outputId": "8b215348-c44d-48ef-e91b-f1c0516ac4e1"
      },
      "execution_count": null,
      "outputs": [
        {
          "output_type": "stream",
          "name": "stdout",
          "text": [
            "Average Price of Laptops Each Brand:\n",
            " Company\n",
            "Razer        3346.142857\n",
            "LG           2099.000000\n",
            "MSI          1728.908148\n",
            "Google       1677.666667\n",
            "Microsoft    1612.308333\n",
            "Apple        1564.198571\n",
            "Huawei       1424.000000\n",
            "Samsung      1413.444444\n",
            "Toshiba      1267.812500\n",
            "Dell         1199.225120\n",
            "Xiaomi       1133.462500\n",
            "Asus         1123.829737\n",
            "Lenovo       1093.862215\n",
            "HP           1080.314664\n",
            "Fujitsu       729.000000\n",
            "Acer          633.464455\n",
            "Chuwi         314.296667\n",
            "Mediacom      295.000000\n",
            "Vero          217.425000\n",
            "Name: Price_euros, dtype: float64\n",
            "Highest Average Price Brand: Razer : 3346.1428571428573 Euros\n",
            "Lowest Average Price Brand: Vero : 217.425 Euros\n"
          ]
        }
      ]
    },
    {
      "cell_type": "code",
      "source": [
        "plt.figure(figsize=(6, 4))\n",
        "df_avg_price = avg_price_of_laptops_for_each_brand.reset_index()\n",
        "df_avg_price.columns = ['Brand', 'Average Price']\n",
        "sns.lineplot(x='Brand', y='Average Price', data=df_avg_price, marker='o', color='purple')\n",
        "plt.title('Average Laptop Price per Brand (Trend)')\n",
        "plt.xticks(rotation=90)\n",
        "plt.xlabel('Brand')\n",
        "plt.ylabel('Average Price in Euros')\n",
        "plt.grid(True)\n",
        "plt.show()"
      ],
      "metadata": {
        "colab": {
          "base_uri": "https://localhost:8080/",
          "height": 468
        },
        "id": "6J1Hkrce5OjZ",
        "outputId": "e0cb68d5-c343-46de-f2f8-f7beec36299c"
      },
      "execution_count": null,
      "outputs": [
        {
          "output_type": "display_data",
          "data": {
            "text/plain": [
              "<Figure size 600x400 with 1 Axes>"
            ],
            "image/png": "[encoded data removed]"
          },
          "metadata": {}
        }
      ]
    },
    {
      "cell_type": "markdown",
      "source": [
        "## **c. The correlation between Price_euros and other numeric features such as CPU_freq, Ram, Inches, and Weight and IDENTIFICATION of the features which  are most correlated with price**\n"
      ],
      "metadata": {
        "id": "JIHMWm3jT4tm"
      }
    },
    {
      "cell_type": "code",
      "source": [
        "Numeric_Features = ['Price_euros', 'CPU_freq', 'Ram','Inches','Weight', 'ScreenH', 'ScreenW', 'PrimaryStorage', 'SecondaryStorage']\n",
        "correlation_matrix = df[Numeric_Features].corr()\n",
        "sns.heatmap(correlation_matrix, annot=True, cmap='coolwarm', fmt='.1f')\n",
        "plt.title(\"Feature Correlation Heatmap\")\n",
        "plt.show()\n",
        "\n",
        "Correlation_with_Price = correlation_matrix['Price_euros'].sort_values(ascending=False)\n",
        "print(Correlation_with_Price)"
      ],
      "metadata": {
        "id": "VOKC-8H0GIN5",
        "colab": {
          "base_uri": "https://localhost:8080/",
          "height": 747
        },
        "outputId": "2e6fc791-4a47-439c-b740-caaa217bfd18"
      },
      "execution_count": null,
      "outputs": [
        {
          "output_type": "display_data",
          "data": {
            "text/plain": [
              "<Figure size 640x480 with 2 Axes>"
            ],
            "image/png": "[encoded data removed]"
          },
          "metadata": {}
        },
        {
          "output_type": "stream",
          "name": "stdout",
          "text": [
            "Price_euros         1.000000\n",
            "Ram                 0.740287\n",
            "ScreenW             0.552491\n",
            "ScreenH             0.548529\n",
            "CPU_freq            0.428847\n",
            "SecondaryStorage    0.291207\n",
            "Weight              0.211883\n",
            "Inches              0.070394\n",
            "PrimaryStorage     -0.124775\n",
            "Name: Price_euros, dtype: float64\n"
          ]
        }
      ]
    },
    {
      "cell_type": "markdown",
      "source": [
        "## **d. Creating a new feature, StorageTotal, by summing PrimaryStorage and SecondaryStorage**"
      ],
      "metadata": {
        "id": "CHqVagrPZb_6"
      }
    },
    {
      "cell_type": "code",
      "source": [
        "df['StorageTotal'] = df['PrimaryStorage'] + df['SecondaryStorage']\n",
        "print(df[['PrimaryStorage', 'SecondaryStorage', 'StorageTotal']])"
      ],
      "metadata": {
        "id": "L4XU4Q0fGHUP",
        "colab": {
          "base_uri": "https://localhost:8080/"
        },
        "outputId": "8b7884ad-7e9f-4e29-9524-9197f329c737"
      },
      "execution_count": null,
      "outputs": [
        {
          "output_type": "stream",
          "name": "stdout",
          "text": [
            "      PrimaryStorage  SecondaryStorage  StorageTotal\n",
            "0                128                 0           128\n",
            "1                128                 0           128\n",
            "2                256                 0           256\n",
            "3                512                 0           512\n",
            "4                256                 0           256\n",
            "...              ...               ...           ...\n",
            "1270             128                 0           128\n",
            "1271             512                 0           512\n",
            "1272              64                 0            64\n",
            "1273            1024                 0          1024\n",
            "1274             500                 0           500\n",
            "\n",
            "[1275 rows x 3 columns]\n"
          ]
        }
      ]
    },
    {
      "cell_type": "markdown",
      "source": [
        "###**e. A regression model using features like Ram, Inches, CPU_freq, PrimaryStorage, and GPU_company to predict the Price_euros of a laptop. Suggestion for the best regression model**\n",
        "\n"
      ],
      "metadata": {
        "id": "0U1y954C-DG5"
      }
    },
    {
      "cell_type": "code",
      "source": [
        "from sklearn.model_selection import train_test_split\n",
        "from sklearn.linear_model import LinearRegression\n",
        "from sklearn.metrics import mean_squared_error\n",
        "from sklearn.linear_model import LinearRegression\n",
        "from sklearn.ensemble import RandomForestRegressor, GradientBoostingRegressor\n",
        "from sklearn.preprocessing import LabelEncoder\n",
        "from sklearn.preprocessing import OneHotEncoder\n"
      ],
      "metadata": {
        "id": "UavvnFz0-NTZ"
      },
      "execution_count": null,
      "outputs": []
    },
    {
      "cell_type": "code",
      "source": [
        "#List of categorical columns to encode\n",
        "columns_to_encode = ['GPU_model', 'PrimaryStorageType', 'SecondaryStorageType', 'Screen', 'CPU_model', 'GPU_company']\n",
        "\n",
        "label_encoder = LabelEncoder()\n",
        "\n",
        "for col in columns_to_encode:\n",
        "    df[col] = label_encoder.fit_transform(df[col])\n"
      ],
      "metadata": {
        "id": "xIZv1RLO-NQ3"
      },
      "execution_count": null,
      "outputs": []
    },
    {
      "cell_type": "code",
      "source": [
        "X_reg = df[['Ram', 'Inches', 'CPU_freq', 'PrimaryStorage', 'GPU_model', 'PrimaryStorageType', 'SecondaryStorageType', 'Screen', 'CPU_model', 'GPU_company']]\n",
        "y_reg = df['Price_euros']\n",
        "X_train_reg, X_test_reg, y_train_reg, y_test_reg = train_test_split(X_reg, y_reg, test_size=0.2, random_state=42)"
      ],
      "metadata": {
        "id": "r2-OHkDJ-ukW"
      },
      "execution_count": null,
      "outputs": []
    },
    {
      "cell_type": "code",
      "source": [
        "\n",
        "X = df[['Ram', 'Inches', 'CPU_freq', 'PrimaryStorage', 'GPU_model',\n",
        "        'PrimaryStorageType', 'SecondaryStorageType', 'Screen',\n",
        "        'CPU_model', 'GPU_company']]\n",
        "Y = df['Price_euros']\n",
        "\n",
        "X_train, X_test, Y_train, Y_test = train_test_split(X, Y, test_size=0.2, random_state=42)\n",
        "\n",
        "models = {\n",
        "    'Linear Regression': LinearRegression(),\n",
        "    'Random Forest': RandomForestRegressor(random_state=42),\n",
        "    'Gradient Boosting': GradientBoostingRegressor(random_state=42),\n",
        "    'Ridge Regression': Ridge(alpha=1.0),\n",
        "    'Lasso Regression': Lasso(alpha=0.1)\n",
        "}\n",
        "\n",
        "rmse_values = {}\n",
        "\n",
        "for model_name, model in models.items():\n",
        "\n",
        "    model.fit(X_train, Y_train)\n",
        "    Y_pred = model.predict(X_test)\n",
        "    rmse = np.sqrt(mean_squared_error(Y_test, Y_pred))\n",
        "    rmse_values[model_name] = rmse\n",
        "    print(f'{model_name} RMSE: {rmse}')\n",
        "best_model = min(rmse_values, key=rmse_values.get)\n",
        "print(f'\\nBest Model: {best_model} with RMSE: {rmse_values[best_model]}')"
      ],
      "metadata": {
        "colab": {
          "base_uri": "https://localhost:8080/"
        },
        "id": "GFFRkVU_-uhp",
        "outputId": "fd02b2d6-83b4-4ba5-ca0d-349df4e57230"
      },
      "execution_count": null,
      "outputs": [
        {
          "output_type": "stream",
          "name": "stdout",
          "text": [
            "Linear Regression RMSE: 395.8769597487564\n",
            "Random Forest RMSE: 247.0809639720093\n",
            "Gradient Boosting RMSE: 257.67326519612953\n",
            "Ridge Regression RMSE: 395.88273677259525\n",
            "Lasso Regression RMSE: 395.86798306342615\n",
            "\n",
            "Best Model: Random Forest with RMSE: 247.0809639720093\n"
          ]
        }
      ]
    },
    {
      "cell_type": "markdown",
      "source": [
        "###**f. Creation of a classification model to predict the laptop type (TypeName) based on features such as Inches, Ram, PrimaryStorage, and Weight. Identification of the features which are the most important in my  classification model. Suggestion for the best classification model**\n"
      ],
      "metadata": {
        "id": "NjPnXDGT_vO_"
      }
    },
    {
      "cell_type": "code",
      "source": [
        "from sklearn.preprocessing import StandardScaler\n",
        "from sklearn.linear_model import LogisticRegression\n",
        "from sklearn.ensemble import RandomForestClassifier, GradientBoostingClassifier\n",
        "from sklearn.svm import SVC\n",
        "from sklearn.metrics import accuracy_score, classification_report, confusion_matrix\n",
        "\n",
        "X = df[['Ram', 'Inches',  'PrimaryStorage', 'GPU_model',\n",
        "        'PrimaryStorageType', 'Weight', 'SecondaryStorageType',\n",
        "        ]]\n",
        "\n",
        "y = df['TypeName']\n",
        "\n",
        "X_train, X_test, y_train, y_test = train_test_split(X, y, test_size=0.2, random_state=42)\n",
        "\n",
        "scaler = StandardScaler()\n",
        "X_train_scaled = scaler.fit_transform(X_train)\n",
        "X_test_scaled = scaler.transform(X_test)\n",
        "\n",
        "classifiers = {\n",
        "    'Logistic Regression': LogisticRegression(max_iter=1000),\n",
        "    'Random Forest': RandomForestClassifier(random_state=42),\n",
        "    'Gradient Boosting': GradientBoostingClassifier(random_state=42),\n",
        "    'Support Vector Machine': SVC(kernel='linear')\n",
        "}\n",
        "\n",
        "accuracy_scores = {}\n",
        "\n",
        "for clf_name, clf in classifiers.items():\n",
        "\n",
        "    clf.fit(X_train_scaled, y_train)\n",
        "    y_pred = clf.predict(X_test_scaled)\n",
        "    accuracy = accuracy_score(y_test, y_pred)\n",
        "    accuracy_scores[clf_name] = accuracy\n",
        "    print(f'{clf_name} Accuracy: {accuracy}')\n",
        "    print(classification_report(y_test, y_pred))\n",
        "    print(confusion_matrix(y_test, y_pred), '\\n')\n",
        "\n",
        "best_model = max(accuracy_scores, key=accuracy_scores.get)\n",
        "print(f'Best Classification Model: {best_model} with Accuracy: {accuracy_scores[best_model]}')\n",
        "\n",
        "if best_model == 'Random Forest' or best_model == 'Gradient Boosting':\n",
        "    importances = classifiers[best_model].feature_importances_\n",
        "    feature_importance = pd.DataFrame({'Feature': X.columns, 'Importance': importances}).sort_values(by='Importance', ascending=False)\n",
        "    print('\\nFeature Importance for Best Model:')\n",
        "    print(feature_importance)"
      ],
      "metadata": {
        "colab": {
          "base_uri": "https://localhost:8080/"
        },
        "id": "7BvhkPUi-N-n",
        "outputId": "0050a37a-828e-41c8-ba5d-2871eb0dd34f"
      },
      "execution_count": null,
      "outputs": [
        {
          "output_type": "stream",
          "name": "stdout",
          "text": [
            "Logistic Regression Accuracy: 0.7529411764705882\n",
            "                    precision    recall  f1-score   support\n",
            "\n",
            "2 in 1 Convertible       0.50      0.11      0.18        28\n",
            "            Gaming       0.80      0.81      0.80        43\n",
            "           Netbook       0.75      0.75      0.75         4\n",
            "          Notebook       0.80      0.90      0.85       141\n",
            "         Ultrabook       0.56      0.70      0.62        33\n",
            "       Workstation       1.00      0.17      0.29         6\n",
            "\n",
            "          accuracy                           0.75       255\n",
            "         macro avg       0.73      0.57      0.58       255\n",
            "      weighted avg       0.74      0.75      0.72       255\n",
            "\n",
            "[[  3   3   1  12   9   0]\n",
            " [  0  35   0   8   0   0]\n",
            " [  0   0   3   0   1   0]\n",
            " [  0   6   0 127   8   0]\n",
            " [  3   0   0   7  23   0]\n",
            " [  0   0   0   5   0   1]] \n",
            "\n",
            "Random Forest Accuracy: 0.796078431372549\n",
            "                    precision    recall  f1-score   support\n",
            "\n",
            "2 in 1 Convertible       0.57      0.29      0.38        28\n",
            "            Gaming       0.86      0.98      0.91        43\n",
            "           Netbook       0.60      0.75      0.67         4\n",
            "          Notebook       0.86      0.88      0.87       141\n",
            "         Ultrabook       0.59      0.73      0.65        33\n",
            "       Workstation       1.00      0.33      0.50         6\n",
            "\n",
            "          accuracy                           0.80       255\n",
            "         macro avg       0.75      0.66      0.66       255\n",
            "      weighted avg       0.79      0.80      0.78       255\n",
            "\n",
            "[[  8   1   1   9   9   0]\n",
            " [  0  42   0   1   0   0]\n",
            " [  0   0   3   0   1   0]\n",
            " [  4   6   0 124   7   0]\n",
            " [  2   0   1   6  24   0]\n",
            " [  0   0   0   4   0   2]] \n",
            "\n",
            "Gradient Boosting Accuracy: 0.8274509803921568\n",
            "                    precision    recall  f1-score   support\n",
            "\n",
            "2 in 1 Convertible       0.80      0.29      0.42        28\n",
            "            Gaming       0.86      1.00      0.92        43\n",
            "           Netbook       0.60      0.75      0.67         4\n",
            "          Notebook       0.89      0.89      0.89       141\n",
            "         Ultrabook       0.60      0.79      0.68        33\n",
            "       Workstation       0.86      1.00      0.92         6\n",
            "\n",
            "          accuracy                           0.83       255\n",
            "         macro avg       0.77      0.79      0.75       255\n",
            "      weighted avg       0.83      0.83      0.81       255\n",
            "\n",
            "[[  8   1   1  10   7   1]\n",
            " [  0  43   0   0   0   0]\n",
            " [  0   0   3   0   1   0]\n",
            " [  2   5   0 125   9   0]\n",
            " [  0   1   1   5  26   0]\n",
            " [  0   0   0   0   0   6]] \n",
            "\n",
            "Support Vector Machine Accuracy: 0.7215686274509804\n",
            "                    precision    recall  f1-score   support\n",
            "\n",
            "2 in 1 Convertible       0.14      0.04      0.06        28\n",
            "            Gaming       0.76      0.81      0.79        43\n",
            "           Netbook       0.00      0.00      0.00         4\n",
            "          Notebook       0.81      0.87      0.84       141\n",
            "         Ultrabook       0.49      0.76      0.60        33\n",
            "       Workstation       0.00      0.00      0.00         6\n",
            "\n",
            "          accuracy                           0.72       255\n",
            "         macro avg       0.37      0.41      0.38       255\n",
            "      weighted avg       0.66      0.72      0.68       255\n",
            "\n",
            "[[  1   3   0   9  15   0]\n",
            " [  0  35   0   8   0   0]\n",
            " [  3   0   0   0   1   0]\n",
            " [  1   7   0 123  10   0]\n",
            " [  2   0   0   6  25   0]\n",
            " [  0   1   0   5   0   0]] \n",
            "\n",
            "Best Classification Model: Gradient Boosting with Accuracy: 0.8274509803921568\n",
            "\n",
            "Feature Importance for Best Model:\n",
            "                Feature  Importance\n",
            "3             GPU_model    0.348860\n",
            "5                Weight    0.333963\n",
            "0                   Ram    0.123473\n",
            "1                Inches    0.092459\n",
            "2        PrimaryStorage    0.046796\n",
            "6  SecondaryStorageType    0.045206\n",
            "4    PrimaryStorageType    0.009242\n"
          ]
        },
        {
          "output_type": "stream",
          "name": "stderr",
          "text": [
            "/usr/local/lib/python3.11/dist-packages/sklearn/metrics/_classification.py:1565: UndefinedMetricWarning: Precision is ill-defined and being set to 0.0 in labels with no predicted samples. Use `zero_division` parameter to control this behavior.\n",
            "  _warn_prf(average, modifier, f\"{metric.capitalize()} is\", len(result))\n",
            "/usr/local/lib/python3.11/dist-packages/sklearn/metrics/_classification.py:1565: UndefinedMetricWarning: Precision is ill-defined and being set to 0.0 in labels with no predicted samples. Use `zero_division` parameter to control this behavior.\n",
            "  _warn_prf(average, modifier, f\"{metric.capitalize()} is\", len(result))\n",
            "/usr/local/lib/python3.11/dist-packages/sklearn/metrics/_classification.py:1565: UndefinedMetricWarning: Precision is ill-defined and being set to 0.0 in labels with no predicted samples. Use `zero_division` parameter to control this behavior.\n",
            "  _warn_prf(average, modifier, f\"{metric.capitalize()} is\", len(result))\n"
          ]
        }
      ]
    },
    {
      "cell_type": "code",
      "source": [
        "X = df[['Ram', 'Inches',  'PrimaryStorage', 'GPU_model',\n",
        "        'PrimaryStorageType', 'Weight',\n",
        "        ]]\n",
        "y = df['TypeName']\n",
        "\n",
        "\n",
        "X_train, X_test, y_train, y_test = train_test_split(X, y, test_size=0.2, random_state=42)\n",
        "\n",
        "scaler = StandardScaler()\n",
        "X_train_scaled = scaler.fit_transform(X_train)\n",
        "X_test_scaled = scaler.transform(X_test)\n",
        "classifiers = {\n",
        "    'Logistic Regression': LogisticRegression(max_iter=1000),\n",
        "    'Random Forest': RandomForestClassifier(random_state=42),\n",
        "    'Gradient Boosting': GradientBoostingClassifier(random_state=42),\n",
        "    'Support Vector Machine': SVC(kernel='linear')\n",
        "}\n",
        "accuracy_scores = {}\n",
        "\n",
        "for clf_name, clf in classifiers.items():\n",
        "    clf.fit(X_train_scaled, y_train)\n",
        "    y_pred = clf.predict(X_test_scaled)\n",
        "\n",
        "    accuracy = accuracy_score(y_test, y_pred)\n",
        "    accuracy_scores[clf_name] = accuracy\n",
        "    print(f'{clf_name} Accuracy: {accuracy}')\n",
        "    print(classification_report(y_test, y_pred))\n",
        "    print(confusion_matrix(y_test, y_pred), '\\n')\n",
        "\n",
        "best_model = max(accuracy_scores, key=accuracy_scores.get)\n",
        "print(f'Best Classification Model: {best_model} with Accuracy: {accuracy_scores[best_model]}')\n",
        "\n",
        "if best_model == 'Random Forest' or best_model == 'Gradient Boosting':\n",
        "    importances = classifiers[best_model].feature_importances_\n",
        "    feature_importance = pd.DataFrame({'Feature': X.columns, 'Importance': importances}).sort_values(by='Importance', ascending=False)\n",
        "    print('\\nFeature Importance for Best Model:')\n",
        "    print(feature_importance)\n"
      ],
      "metadata": {
        "colab": {
          "base_uri": "https://localhost:8080/"
        },
        "id": "ZL4S74pM52H6",
        "outputId": "4944da90-751e-4cff-c2b3-99c715e329b7"
      },
      "execution_count": null,
      "outputs": [
        {
          "output_type": "stream",
          "name": "stdout",
          "text": [
            "Logistic Regression Accuracy: 0.7333333333333333\n",
            "                    precision    recall  f1-score   support\n",
            "\n",
            "2 in 1 Convertible       0.50      0.11      0.18        28\n",
            "            Gaming       0.71      0.74      0.73        43\n",
            "           Netbook       0.75      0.75      0.75         4\n",
            "          Notebook       0.79      0.89      0.84       141\n",
            "         Ultrabook       0.57      0.70      0.63        33\n",
            "       Workstation       0.00      0.00      0.00         6\n",
            "\n",
            "          accuracy                           0.73       255\n",
            "         macro avg       0.55      0.53      0.52       255\n",
            "      weighted avg       0.70      0.73      0.70       255\n",
            "\n",
            "[[  3   4   1  11   9   0]\n",
            " [  0  32   0  11   0   0]\n",
            " [  0   0   3   0   1   0]\n",
            " [  0   8   0 126   7   0]\n",
            " [  3   0   0   7  23   0]\n",
            " [  0   1   0   5   0   0]] \n",
            "\n"
          ]
        },
        {
          "output_type": "stream",
          "name": "stderr",
          "text": [
            "/usr/local/lib/python3.11/dist-packages/sklearn/metrics/_classification.py:1565: UndefinedMetricWarning: Precision is ill-defined and being set to 0.0 in labels with no predicted samples. Use `zero_division` parameter to control this behavior.\n",
            "  _warn_prf(average, modifier, f\"{metric.capitalize()} is\", len(result))\n",
            "/usr/local/lib/python3.11/dist-packages/sklearn/metrics/_classification.py:1565: UndefinedMetricWarning: Precision is ill-defined and being set to 0.0 in labels with no predicted samples. Use `zero_division` parameter to control this behavior.\n",
            "  _warn_prf(average, modifier, f\"{metric.capitalize()} is\", len(result))\n",
            "/usr/local/lib/python3.11/dist-packages/sklearn/metrics/_classification.py:1565: UndefinedMetricWarning: Precision is ill-defined and being set to 0.0 in labels with no predicted samples. Use `zero_division` parameter to control this behavior.\n",
            "  _warn_prf(average, modifier, f\"{metric.capitalize()} is\", len(result))\n"
          ]
        },
        {
          "output_type": "stream",
          "name": "stdout",
          "text": [
            "Random Forest Accuracy: 0.792156862745098\n",
            "                    precision    recall  f1-score   support\n",
            "\n",
            "2 in 1 Convertible       0.53      0.29      0.37        28\n",
            "            Gaming       0.84      0.98      0.90        43\n",
            "           Netbook       0.50      0.50      0.50         4\n",
            "          Notebook       0.86      0.88      0.87       141\n",
            "         Ultrabook       0.60      0.73      0.66        33\n",
            "       Workstation       1.00      0.33      0.50         6\n",
            "\n",
            "          accuracy                           0.79       255\n",
            "         macro avg       0.72      0.62      0.63       255\n",
            "      weighted avg       0.79      0.79      0.78       255\n",
            "\n",
            "[[  8   1   1  10   8   0]\n",
            " [  0  42   0   1   0   0]\n",
            " [  1   0   2   0   1   0]\n",
            " [  4   6   0 124   7   0]\n",
            " [  2   1   1   5  24   0]\n",
            " [  0   0   0   4   0   2]] \n",
            "\n",
            "Gradient Boosting Accuracy: 0.8156862745098039\n",
            "                    precision    recall  f1-score   support\n",
            "\n",
            "2 in 1 Convertible       0.80      0.29      0.42        28\n",
            "            Gaming       0.84      1.00      0.91        43\n",
            "           Netbook       0.40      0.50      0.44         4\n",
            "          Notebook       0.89      0.87      0.88       141\n",
            "         Ultrabook       0.59      0.79      0.68        33\n",
            "       Workstation       0.86      1.00      0.92         6\n",
            "\n",
            "          accuracy                           0.82       255\n",
            "         macro avg       0.73      0.74      0.71       255\n",
            "      weighted avg       0.83      0.82      0.80       255\n",
            "\n",
            "[[  8   2   1   9   7   1]\n",
            " [  0  43   0   0   0   0]\n",
            " [  0   0   2   1   1   0]\n",
            " [  2   5   1 123  10   0]\n",
            " [  0   1   1   5  26   0]\n",
            " [  0   0   0   0   0   6]] \n",
            "\n",
            "Support Vector Machine Accuracy: 0.7019607843137254\n",
            "                    precision    recall  f1-score   support\n",
            "\n",
            "2 in 1 Convertible       0.14      0.04      0.06        28\n",
            "            Gaming       0.71      0.74      0.73        43\n",
            "           Netbook       0.00      0.00      0.00         4\n",
            "          Notebook       0.80      0.86      0.83       141\n",
            "         Ultrabook       0.49      0.76      0.60        33\n",
            "       Workstation       0.00      0.00      0.00         6\n",
            "\n",
            "          accuracy                           0.70       255\n",
            "         macro avg       0.36      0.40      0.37       255\n",
            "      weighted avg       0.64      0.70      0.66       255\n",
            "\n",
            "[[  1   3   0   9  15   0]\n",
            " [  0  32   0  11   0   0]\n",
            " [  3   0   0   0   1   0]\n",
            " [  1   9   0 121  10   0]\n",
            " [  2   0   0   6  25   0]\n",
            " [  0   1   0   5   0   0]] \n",
            "\n",
            "Best Classification Model: Gradient Boosting with Accuracy: 0.8156862745098039\n",
            "\n",
            "Feature Importance for Best Model:\n",
            "              Feature  Importance\n",
            "3           GPU_model    0.384392\n",
            "5              Weight    0.343493\n",
            "0                 Ram    0.119688\n",
            "1              Inches    0.094486\n",
            "2      PrimaryStorage    0.046615\n",
            "4  PrimaryStorageType    0.011325\n"
          ]
        },
        {
          "output_type": "stream",
          "name": "stderr",
          "text": [
            "/usr/local/lib/python3.11/dist-packages/sklearn/metrics/_classification.py:1565: UndefinedMetricWarning: Precision is ill-defined and being set to 0.0 in labels with no predicted samples. Use `zero_division` parameter to control this behavior.\n",
            "  _warn_prf(average, modifier, f\"{metric.capitalize()} is\", len(result))\n",
            "/usr/local/lib/python3.11/dist-packages/sklearn/metrics/_classification.py:1565: UndefinedMetricWarning: Precision is ill-defined and being set to 0.0 in labels with no predicted samples. Use `zero_division` parameter to control this behavior.\n",
            "  _warn_prf(average, modifier, f\"{metric.capitalize()} is\", len(result))\n",
            "/usr/local/lib/python3.11/dist-packages/sklearn/metrics/_classification.py:1565: UndefinedMetricWarning: Precision is ill-defined and being set to 0.0 in labels with no predicted samples. Use `zero_division` parameter to control this behavior.\n",
            "  _warn_prf(average, modifier, f\"{metric.capitalize()} is\", len(result))\n"
          ]
        }
      ]
    },
    {
      "cell_type": "code",
      "source": [
        "best_random_state = None\n",
        "best_accuracy = 0\n",
        "\n",
        "for state in [42, 24, 100, 123]:\n",
        "    print(f\"\\nRandom State: {state}\")\n",
        "\n",
        "    X_train, X_test, y_train, y_test = train_test_split(X, y, test_size=0.2, random_state=state)\n",
        "\n",
        "\n",
        "    scaler = StandardScaler()\n",
        "    X_train_scaled = scaler.fit_transform(X_train)\n",
        "    X_test_scaled = scaler.transform(X_test)\n",
        "\n",
        "    accuracy_scores = {}\n",
        "    for clf_name, clf in classifiers.items():\n",
        "\n",
        "        clf.fit(X_train_scaled, y_train)\n",
        "\n",
        "        y_pred = clf.predict(X_test_scaled)\n",
        "\n",
        "        accuracy = accuracy_score(y_test, y_pred)\n",
        "        accuracy_scores[clf_name] = accuracy\n",
        "\n",
        "        print(f'{clf_name} Accuracy: {accuracy}')\n",
        "        print(classification_report(y_test, y_pred))\n",
        "        print(confusion_matrix(y_test, y_pred), '\\n')\n",
        "\n",
        "\n",
        "    best_model = max(accuracy_scores, key=accuracy_scores.get)\n",
        "    print(f'Best Classification Model for random_state {state}: {best_model} with Accuracy: {accuracy_scores[best_model]}')\n",
        "\n",
        "\n",
        "    if accuracy_scores[best_model] > best_accuracy:\n",
        "        best_accuracy = accuracy_scores[best_model]\n",
        "        best_random_state = state\n",
        "\n",
        "print(f'\\nBest random_state: {best_random_state} with Accuracy: {best_accuracy}')"
      ],
      "metadata": {
        "colab": {
          "base_uri": "https://localhost:8080/"
        },
        "id": "ERg5iCYX52Eg",
        "outputId": "52449d76-79cc-4c5a-efbf-900e39d81858"
      },
      "execution_count": null,
      "outputs": [
        {
          "output_type": "stream",
          "name": "stdout",
          "text": [
            "\n",
            "Random State: 42\n",
            "Logistic Regression Accuracy: 0.7333333333333333\n",
            "                    precision    recall  f1-score   support\n",
            "\n",
            "2 in 1 Convertible       0.50      0.11      0.18        28\n",
            "            Gaming       0.71      0.74      0.73        43\n",
            "           Netbook       0.75      0.75      0.75         4\n",
            "          Notebook       0.79      0.89      0.84       141\n",
            "         Ultrabook       0.57      0.70      0.63        33\n",
            "       Workstation       0.00      0.00      0.00         6\n",
            "\n",
            "          accuracy                           0.73       255\n",
            "         macro avg       0.55      0.53      0.52       255\n",
            "      weighted avg       0.70      0.73      0.70       255\n",
            "\n",
            "[[  3   4   1  11   9   0]\n",
            " [  0  32   0  11   0   0]\n",
            " [  0   0   3   0   1   0]\n",
            " [  0   8   0 126   7   0]\n",
            " [  3   0   0   7  23   0]\n",
            " [  0   1   0   5   0   0]] \n",
            "\n"
          ]
        },
        {
          "output_type": "stream",
          "name": "stderr",
          "text": [
            "/usr/local/lib/python3.11/dist-packages/sklearn/metrics/_classification.py:1565: UndefinedMetricWarning: Precision is ill-defined and being set to 0.0 in labels with no predicted samples. Use `zero_division` parameter to control this behavior.\n",
            "  _warn_prf(average, modifier, f\"{metric.capitalize()} is\", len(result))\n",
            "/usr/local/lib/python3.11/dist-packages/sklearn/metrics/_classification.py:1565: UndefinedMetricWarning: Precision is ill-defined and being set to 0.0 in labels with no predicted samples. Use `zero_division` parameter to control this behavior.\n",
            "  _warn_prf(average, modifier, f\"{metric.capitalize()} is\", len(result))\n",
            "/usr/local/lib/python3.11/dist-packages/sklearn/metrics/_classification.py:1565: UndefinedMetricWarning: Precision is ill-defined and being set to 0.0 in labels with no predicted samples. Use `zero_division` parameter to control this behavior.\n",
            "  _warn_prf(average, modifier, f\"{metric.capitalize()} is\", len(result))\n"
          ]
        },
        {
          "output_type": "stream",
          "name": "stdout",
          "text": [
            "Random Forest Accuracy: 0.792156862745098\n",
            "                    precision    recall  f1-score   support\n",
            "\n",
            "2 in 1 Convertible       0.53      0.29      0.37        28\n",
            "            Gaming       0.84      0.98      0.90        43\n",
            "           Netbook       0.50      0.50      0.50         4\n",
            "          Notebook       0.86      0.88      0.87       141\n",
            "         Ultrabook       0.60      0.73      0.66        33\n",
            "       Workstation       1.00      0.33      0.50         6\n",
            "\n",
            "          accuracy                           0.79       255\n",
            "         macro avg       0.72      0.62      0.63       255\n",
            "      weighted avg       0.79      0.79      0.78       255\n",
            "\n",
            "[[  8   1   1  10   8   0]\n",
            " [  0  42   0   1   0   0]\n",
            " [  1   0   2   0   1   0]\n",
            " [  4   6   0 124   7   0]\n",
            " [  2   1   1   5  24   0]\n",
            " [  0   0   0   4   0   2]] \n",
            "\n",
            "Gradient Boosting Accuracy: 0.8156862745098039\n",
            "                    precision    recall  f1-score   support\n",
            "\n",
            "2 in 1 Convertible       0.80      0.29      0.42        28\n",
            "            Gaming       0.84      1.00      0.91        43\n",
            "           Netbook       0.40      0.50      0.44         4\n",
            "          Notebook       0.89      0.87      0.88       141\n",
            "         Ultrabook       0.59      0.79      0.68        33\n",
            "       Workstation       0.86      1.00      0.92         6\n",
            "\n",
            "          accuracy                           0.82       255\n",
            "         macro avg       0.73      0.74      0.71       255\n",
            "      weighted avg       0.83      0.82      0.80       255\n",
            "\n",
            "[[  8   2   1   9   7   1]\n",
            " [  0  43   0   0   0   0]\n",
            " [  0   0   2   1   1   0]\n",
            " [  2   5   1 123  10   0]\n",
            " [  0   1   1   5  26   0]\n",
            " [  0   0   0   0   0   6]] \n",
            "\n",
            "Support Vector Machine Accuracy: 0.7019607843137254\n",
            "                    precision    recall  f1-score   support\n",
            "\n",
            "2 in 1 Convertible       0.14      0.04      0.06        28\n",
            "            Gaming       0.71      0.74      0.73        43\n",
            "           Netbook       0.00      0.00      0.00         4\n",
            "          Notebook       0.80      0.86      0.83       141\n",
            "         Ultrabook       0.49      0.76      0.60        33\n",
            "       Workstation       0.00      0.00      0.00         6\n",
            "\n",
            "          accuracy                           0.70       255\n",
            "         macro avg       0.36      0.40      0.37       255\n",
            "      weighted avg       0.64      0.70      0.66       255\n",
            "\n",
            "[[  1   3   0   9  15   0]\n",
            " [  0  32   0  11   0   0]\n",
            " [  3   0   0   0   1   0]\n",
            " [  1   9   0 121  10   0]\n",
            " [  2   0   0   6  25   0]\n",
            " [  0   1   0   5   0   0]] \n",
            "\n",
            "Best Classification Model for random_state 42: Gradient Boosting with Accuracy: 0.8156862745098039\n",
            "\n",
            "Random State: 24\n",
            "Logistic Regression Accuracy: 0.7254901960784313\n",
            "                    precision    recall  f1-score   support\n",
            "\n",
            "2 in 1 Convertible       0.33      0.07      0.11        29\n",
            "            Gaming       0.76      0.74      0.75        39\n",
            "           Netbook       0.43      0.60      0.50         5\n",
            "          Notebook       0.80      0.93      0.86       136\n",
            "         Ultrabook       0.52      0.65      0.58        37\n",
            "       Workstation       0.00      0.00      0.00         9\n",
            "\n",
            "          accuracy                           0.73       255\n",
            "         macro avg       0.48      0.50      0.47       255\n",
            "      weighted avg       0.67      0.73      0.68       255\n",
            "\n",
            "[[  2   2   4   6  15   0]\n",
            " [  0  29   0   9   1   0]\n",
            " [  0   0   3   0   2   0]\n",
            " [  1   4   0 127   4   0]\n",
            " [  3   0   0  10  24   0]\n",
            " [  0   3   0   6   0   0]] \n",
            "\n"
          ]
        },
        {
          "output_type": "stream",
          "name": "stderr",
          "text": [
            "/usr/local/lib/python3.11/dist-packages/sklearn/metrics/_classification.py:1565: UndefinedMetricWarning: Precision is ill-defined and being set to 0.0 in labels with no predicted samples. Use `zero_division` parameter to control this behavior.\n",
            "  _warn_prf(average, modifier, f\"{metric.capitalize()} is\", len(result))\n",
            "/usr/local/lib/python3.11/dist-packages/sklearn/metrics/_classification.py:1565: UndefinedMetricWarning: Precision is ill-defined and being set to 0.0 in labels with no predicted samples. Use `zero_division` parameter to control this behavior.\n",
            "  _warn_prf(average, modifier, f\"{metric.capitalize()} is\", len(result))\n",
            "/usr/local/lib/python3.11/dist-packages/sklearn/metrics/_classification.py:1565: UndefinedMetricWarning: Precision is ill-defined and being set to 0.0 in labels with no predicted samples. Use `zero_division` parameter to control this behavior.\n",
            "  _warn_prf(average, modifier, f\"{metric.capitalize()} is\", len(result))\n",
            "/usr/local/lib/python3.11/dist-packages/sklearn/metrics/_classification.py:1565: UndefinedMetricWarning: Precision is ill-defined and being set to 0.0 in labels with no predicted samples. Use `zero_division` parameter to control this behavior.\n",
            "  _warn_prf(average, modifier, f\"{metric.capitalize()} is\", len(result))\n",
            "/usr/local/lib/python3.11/dist-packages/sklearn/metrics/_classification.py:1565: UndefinedMetricWarning: Precision is ill-defined and being set to 0.0 in labels with no predicted samples. Use `zero_division` parameter to control this behavior.\n",
            "  _warn_prf(average, modifier, f\"{metric.capitalize()} is\", len(result))\n",
            "/usr/local/lib/python3.11/dist-packages/sklearn/metrics/_classification.py:1565: UndefinedMetricWarning: Precision is ill-defined and being set to 0.0 in labels with no predicted samples. Use `zero_division` parameter to control this behavior.\n",
            "  _warn_prf(average, modifier, f\"{metric.capitalize()} is\", len(result))\n"
          ]
        },
        {
          "output_type": "stream",
          "name": "stdout",
          "text": [
            "Random Forest Accuracy: 0.8196078431372549\n",
            "                    precision    recall  f1-score   support\n",
            "\n",
            "2 in 1 Convertible       0.82      0.48      0.61        29\n",
            "            Gaming       0.94      0.87      0.91        39\n",
            "           Netbook       0.67      0.40      0.50         5\n",
            "          Notebook       0.81      0.96      0.88       136\n",
            "         Ultrabook       0.75      0.73      0.74        37\n",
            "       Workstation       0.50      0.11      0.18         9\n",
            "\n",
            "          accuracy                           0.82       255\n",
            "         macro avg       0.75      0.59      0.64       255\n",
            "      weighted avg       0.81      0.82      0.80       255\n",
            "\n",
            "[[ 14   0   0   8   7   0]\n",
            " [  0  34   0   5   0   0]\n",
            " [  0   0   2   1   2   0]\n",
            " [  2   2   0 131   0   1]\n",
            " [  1   0   1   8  27   0]\n",
            " [  0   0   0   8   0   1]] \n",
            "\n",
            "Gradient Boosting Accuracy: 0.8627450980392157\n",
            "                    precision    recall  f1-score   support\n",
            "\n",
            "2 in 1 Convertible       0.79      0.52      0.62        29\n",
            "            Gaming       0.95      0.90      0.92        39\n",
            "           Netbook       0.67      0.40      0.50         5\n",
            "          Notebook       0.88      0.97      0.92       136\n",
            "         Ultrabook       0.78      0.76      0.77        37\n",
            "       Workstation       0.80      0.89      0.84         9\n",
            "\n",
            "          accuracy                           0.86       255\n",
            "         macro avg       0.81      0.74      0.76       255\n",
            "      weighted avg       0.86      0.86      0.86       255\n",
            "\n",
            "[[ 15   0   0   9   5   0]\n",
            " [  0  35   0   3   0   1]\n",
            " [  0   0   2   1   2   0]\n",
            " [  0   2   0 132   1   1]\n",
            " [  4   0   1   4  28   0]\n",
            " [  0   0   0   1   0   8]] \n",
            "\n",
            "Support Vector Machine Accuracy: 0.7254901960784313\n",
            "                    precision    recall  f1-score   support\n",
            "\n",
            "2 in 1 Convertible       0.22      0.07      0.11        29\n",
            "            Gaming       0.76      0.79      0.78        39\n",
            "           Netbook       0.00      0.00      0.00         5\n",
            "          Notebook       0.82      0.93      0.87       136\n",
            "         Ultrabook       0.54      0.70      0.61        37\n",
            "       Workstation       0.00      0.00      0.00         9\n",
            "\n",
            "          accuracy                           0.73       255\n",
            "         macro avg       0.39      0.42      0.39       255\n",
            "      weighted avg       0.66      0.73      0.68       255\n",
            "\n",
            "[[  2   2   3   7  15   0]\n",
            " [  0  31   0   7   1   0]\n",
            " [  3   0   0   0   2   0]\n",
            " [  1   5   0 126   4   0]\n",
            " [  3   0   0   8  26   0]\n",
            " [  0   3   0   6   0   0]] \n",
            "\n",
            "Best Classification Model for random_state 24: Gradient Boosting with Accuracy: 0.8627450980392157\n",
            "\n",
            "Random State: 100\n"
          ]
        },
        {
          "output_type": "stream",
          "name": "stderr",
          "text": [
            "/usr/local/lib/python3.11/dist-packages/sklearn/metrics/_classification.py:1565: UndefinedMetricWarning: Precision is ill-defined and being set to 0.0 in labels with no predicted samples. Use `zero_division` parameter to control this behavior.\n",
            "  _warn_prf(average, modifier, f\"{metric.capitalize()} is\", len(result))\n",
            "/usr/local/lib/python3.11/dist-packages/sklearn/metrics/_classification.py:1565: UndefinedMetricWarning: Precision is ill-defined and being set to 0.0 in labels with no predicted samples. Use `zero_division` parameter to control this behavior.\n",
            "  _warn_prf(average, modifier, f\"{metric.capitalize()} is\", len(result))\n",
            "/usr/local/lib/python3.11/dist-packages/sklearn/metrics/_classification.py:1565: UndefinedMetricWarning: Precision is ill-defined and being set to 0.0 in labels with no predicted samples. Use `zero_division` parameter to control this behavior.\n",
            "  _warn_prf(average, modifier, f\"{metric.capitalize()} is\", len(result))\n"
          ]
        },
        {
          "output_type": "stream",
          "name": "stdout",
          "text": [
            "Logistic Regression Accuracy: 0.7686274509803922\n",
            "                    precision    recall  f1-score   support\n",
            "\n",
            "2 in 1 Convertible       0.50      0.04      0.08        23\n",
            "            Gaming       0.84      0.74      0.79        43\n",
            "           Netbook       0.75      0.60      0.67         5\n",
            "          Notebook       0.80      0.94      0.87       139\n",
            "         Ultrabook       0.60      0.76      0.67        38\n",
            "       Workstation       0.00      0.00      0.00         7\n",
            "\n",
            "          accuracy                           0.77       255\n",
            "         macro avg       0.58      0.52      0.51       255\n",
            "      weighted avg       0.73      0.77      0.73       255\n",
            "\n",
            "[[  1   3   1   6  12   0]\n",
            " [  1  32   0  10   0   0]\n",
            " [  0   0   3   0   2   0]\n",
            " [  0   3   0 131   5   0]\n",
            " [  0   0   0   9  29   0]\n",
            " [  0   0   0   7   0   0]] \n",
            "\n"
          ]
        },
        {
          "output_type": "stream",
          "name": "stderr",
          "text": [
            "/usr/local/lib/python3.11/dist-packages/sklearn/metrics/_classification.py:1565: UndefinedMetricWarning: Precision is ill-defined and being set to 0.0 in labels with no predicted samples. Use `zero_division` parameter to control this behavior.\n",
            "  _warn_prf(average, modifier, f\"{metric.capitalize()} is\", len(result))\n",
            "/usr/local/lib/python3.11/dist-packages/sklearn/metrics/_classification.py:1565: UndefinedMetricWarning: Precision is ill-defined and being set to 0.0 in labels with no predicted samples. Use `zero_division` parameter to control this behavior.\n",
            "  _warn_prf(average, modifier, f\"{metric.capitalize()} is\", len(result))\n",
            "/usr/local/lib/python3.11/dist-packages/sklearn/metrics/_classification.py:1565: UndefinedMetricWarning: Precision is ill-defined and being set to 0.0 in labels with no predicted samples. Use `zero_division` parameter to control this behavior.\n",
            "  _warn_prf(average, modifier, f\"{metric.capitalize()} is\", len(result))\n"
          ]
        },
        {
          "output_type": "stream",
          "name": "stdout",
          "text": [
            "Random Forest Accuracy: 0.803921568627451\n",
            "                    precision    recall  f1-score   support\n",
            "\n",
            "2 in 1 Convertible       0.64      0.39      0.49        23\n",
            "            Gaming       0.93      0.88      0.90        43\n",
            "           Netbook       0.25      0.20      0.22         5\n",
            "          Notebook       0.81      0.94      0.87       139\n",
            "         Ultrabook       0.71      0.58      0.64        38\n",
            "       Workstation       1.00      0.57      0.73         7\n",
            "\n",
            "          accuracy                           0.80       255\n",
            "         macro avg       0.72      0.59      0.64       255\n",
            "      weighted avg       0.80      0.80      0.79       255\n",
            "\n",
            "[[  9   0   0  11   3   0]\n",
            " [  0  38   0   5   0   0]\n",
            " [  2   0   1   0   2   0]\n",
            " [  1   3   0 131   4   0]\n",
            " [  2   0   3  11  22   0]\n",
            " [  0   0   0   3   0   4]] \n",
            "\n",
            "Gradient Boosting Accuracy: 0.8509803921568627\n",
            "                    precision    recall  f1-score   support\n",
            "\n",
            "2 in 1 Convertible       0.82      0.39      0.53        23\n",
            "            Gaming       0.98      0.98      0.98        43\n",
            "           Netbook       0.40      0.40      0.40         5\n",
            "          Notebook       0.85      0.96      0.90       139\n",
            "         Ultrabook       0.76      0.66      0.70        38\n",
            "       Workstation       0.86      0.86      0.86         7\n",
            "\n",
            "          accuracy                           0.85       255\n",
            "         macro avg       0.78      0.71      0.73       255\n",
            "      weighted avg       0.85      0.85      0.84       255\n",
            "\n",
            "[[  9   0   0  11   3   0]\n",
            " [  0  42   0   1   0   0]\n",
            " [  2   0   2   0   1   0]\n",
            " [  0   1   0 133   4   1]\n",
            " [  0   0   3  10  25   0]\n",
            " [  0   0   0   1   0   6]] \n",
            "\n",
            "Support Vector Machine Accuracy: 0.7568627450980392\n",
            "                    precision    recall  f1-score   support\n",
            "\n",
            "2 in 1 Convertible       0.20      0.04      0.07        23\n",
            "            Gaming       0.89      0.74      0.81        43\n",
            "           Netbook       0.50      0.20      0.29         5\n",
            "          Notebook       0.80      0.92      0.86       139\n",
            "         Ultrabook       0.60      0.82      0.69        38\n",
            "       Workstation       0.00      0.00      0.00         7\n",
            "\n",
            "          accuracy                           0.76       255\n",
            "         macro avg       0.50      0.45      0.45       255\n",
            "      weighted avg       0.70      0.76      0.72       255\n",
            "\n",
            "[[  1   1   1   8  12   0]\n",
            " [  0  32   0  11   0   0]\n",
            " [  2   0   1   0   2   0]\n",
            " [  2   2   0 128   7   0]\n",
            " [  0   0   0   7  31   0]\n",
            " [  0   1   0   6   0   0]] \n",
            "\n",
            "Best Classification Model for random_state 100: Gradient Boosting with Accuracy: 0.8509803921568627\n",
            "\n",
            "Random State: 123\n",
            "Logistic Regression Accuracy: 0.7803921568627451\n",
            "                    precision    recall  f1-score   support\n",
            "\n",
            "2 in 1 Convertible       0.50      0.14      0.21        22\n",
            "            Gaming       0.82      0.80      0.81        35\n",
            "           Netbook       0.00      0.00      0.00         1\n",
            "          Notebook       0.83      0.90      0.87       146\n",
            "         Ultrabook       0.71      0.78      0.74        46\n",
            "       Workstation       0.00      0.00      0.00         5\n",
            "\n",
            "          accuracy                           0.78       255\n",
            "         macro avg       0.48      0.44      0.44       255\n",
            "      weighted avg       0.76      0.78      0.76       255\n",
            "\n",
            "[[  3   0   2  10   7   0]\n",
            " [  1  28   0   5   0   1]\n",
            " [  0   0   0   0   1   0]\n",
            " [  0   5   2 132   7   0]\n",
            " [  2   0   0   8  36   0]\n",
            " [  0   1   0   4   0   0]] \n",
            "\n"
          ]
        },
        {
          "output_type": "stream",
          "name": "stderr",
          "text": [
            "/usr/local/lib/python3.11/dist-packages/sklearn/metrics/_classification.py:1565: UndefinedMetricWarning: Precision is ill-defined and being set to 0.0 in labels with no predicted samples. Use `zero_division` parameter to control this behavior.\n",
            "  _warn_prf(average, modifier, f\"{metric.capitalize()} is\", len(result))\n",
            "/usr/local/lib/python3.11/dist-packages/sklearn/metrics/_classification.py:1565: UndefinedMetricWarning: Precision is ill-defined and being set to 0.0 in labels with no predicted samples. Use `zero_division` parameter to control this behavior.\n",
            "  _warn_prf(average, modifier, f\"{metric.capitalize()} is\", len(result))\n",
            "/usr/local/lib/python3.11/dist-packages/sklearn/metrics/_classification.py:1565: UndefinedMetricWarning: Precision is ill-defined and being set to 0.0 in labels with no predicted samples. Use `zero_division` parameter to control this behavior.\n",
            "  _warn_prf(average, modifier, f\"{metric.capitalize()} is\", len(result))\n"
          ]
        },
        {
          "output_type": "stream",
          "name": "stdout",
          "text": [
            "Random Forest Accuracy: 0.792156862745098\n",
            "                    precision    recall  f1-score   support\n",
            "\n",
            "2 in 1 Convertible       0.50      0.36      0.42        22\n",
            "            Gaming       0.86      0.89      0.87        35\n",
            "           Netbook       0.00      0.00      0.00         1\n",
            "          Notebook       0.86      0.87      0.86       146\n",
            "         Ultrabook       0.69      0.72      0.70        46\n",
            "       Workstation       1.00      0.60      0.75         5\n",
            "\n",
            "          accuracy                           0.79       255\n",
            "         macro avg       0.65      0.57      0.60       255\n",
            "      weighted avg       0.80      0.79      0.79       255\n",
            "\n",
            "[[  8   0   1   7   6   0]\n",
            " [  1  31   0   3   0   0]\n",
            " [  0   0   0   0   1   0]\n",
            " [  4   5   2 127   8   0]\n",
            " [  3   0   1   9  33   0]\n",
            " [  0   0   0   2   0   3]] \n",
            "\n",
            "Gradient Boosting Accuracy: 0.803921568627451\n",
            "                    precision    recall  f1-score   support\n",
            "\n",
            "2 in 1 Convertible       0.41      0.41      0.41        22\n",
            "            Gaming       0.89      0.97      0.93        35\n",
            "           Netbook       0.00      0.00      0.00         1\n",
            "          Notebook       0.89      0.86      0.88       146\n",
            "         Ultrabook       0.70      0.67      0.69        46\n",
            "       Workstation       0.83      1.00      0.91         5\n",
            "\n",
            "          accuracy                           0.80       255\n",
            "         macro avg       0.62      0.65      0.64       255\n",
            "      weighted avg       0.81      0.80      0.81       255\n",
            "\n",
            "[[  9   0   1   8   3   1]\n",
            " [  0  34   0   1   0   0]\n",
            " [  0   0   0   0   1   0]\n",
            " [  5   4   2 126   9   0]\n",
            " [  8   0   0   7  31   0]\n",
            " [  0   0   0   0   0   5]] \n",
            "\n",
            "Support Vector Machine Accuracy: 0.7803921568627451\n",
            "                    precision    recall  f1-score   support\n",
            "\n",
            "2 in 1 Convertible       0.25      0.09      0.13        22\n",
            "            Gaming       0.81      0.83      0.82        35\n",
            "           Netbook       0.00      0.00      0.00         1\n",
            "          Notebook       0.83      0.90      0.86       146\n",
            "         Ultrabook       0.69      0.80      0.74        46\n",
            "       Workstation       0.00      0.00      0.00         5\n",
            "\n",
            "          accuracy                           0.78       255\n",
            "         macro avg       0.43      0.44      0.43       255\n",
            "      weighted avg       0.73      0.78      0.75       255\n",
            "\n",
            "[[  2   0   0  11   9   0]\n",
            " [  1  29   0   5   0   0]\n",
            " [  0   0   0   0   1   0]\n",
            " [  4   4   0 131   7   0]\n",
            " [  1   0   0   8  37   0]\n",
            " [  0   3   0   2   0   0]] \n",
            "\n",
            "Best Classification Model for random_state 123: Gradient Boosting with Accuracy: 0.803921568627451\n",
            "\n",
            "Best random_state: 24 with Accuracy: 0.8627450980392157\n"
          ]
        },
        {
          "output_type": "stream",
          "name": "stderr",
          "text": [
            "/usr/local/lib/python3.11/dist-packages/sklearn/metrics/_classification.py:1565: UndefinedMetricWarning: Precision is ill-defined and being set to 0.0 in labels with no predicted samples. Use `zero_division` parameter to control this behavior.\n",
            "  _warn_prf(average, modifier, f\"{metric.capitalize()} is\", len(result))\n",
            "/usr/local/lib/python3.11/dist-packages/sklearn/metrics/_classification.py:1565: UndefinedMetricWarning: Precision is ill-defined and being set to 0.0 in labels with no predicted samples. Use `zero_division` parameter to control this behavior.\n",
            "  _warn_prf(average, modifier, f\"{metric.capitalize()} is\", len(result))\n",
            "/usr/local/lib/python3.11/dist-packages/sklearn/metrics/_classification.py:1565: UndefinedMetricWarning: Precision is ill-defined and being set to 0.0 in labels with no predicted samples. Use `zero_division` parameter to control this behavior.\n",
            "  _warn_prf(average, modifier, f\"{metric.capitalize()} is\", len(result))\n"
          ]
        }
      ]
    }
  ]
}